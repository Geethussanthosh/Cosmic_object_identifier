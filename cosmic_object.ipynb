{
  "cells": [
    {
      "cell_type": "markdown",
      "metadata": {
        "id": "view-in-github",
        "colab_type": "text"
      },
      "source": [
        "<a href=\"https://colab.research.google.com/github/Geethussanthosh/Cosmic_object_identifier/blob/main/cosmic_object.ipynb\" target=\"_parent\"><img src=\"https://colab.research.google.com/assets/colab-badge.svg\" alt=\"Open In Colab\"/></a>"
      ]
    },
    {
      "cell_type": "code",
      "execution_count": 2,
      "metadata": {
        "id": "1vrsr9Kt_Ypc"
      },
      "outputs": [],
      "source": [
        "import os\n",
        "import numpy as np\n",
        "import tensorflow as tf\n",
        "import matplotlib.pyplot as plt\n",
        "import warnings\n",
        "from tensorflow import keras\n",
        "from tensorflow.keras.preprocessing import image_dataset_from_directory\n",
        "from tensorflow.keras import layers\n",
        "from tensorflow.keras.applications import VGG16"
      ]
    },
    {
      "cell_type": "code",
      "execution_count": 3,
      "metadata": {
        "id": "4MFW_FL5_aEH"
      },
      "outputs": [],
      "source": [
        "plt.rc('figure', autolayout = True)\n",
        "plt.rc('axes', labelweight = 'bold', titleweight = 'bold', titlesize = 18, titlepad = 10, labelsize = 'large')\n",
        "plt.rc('image', cmap = 'magma')\n",
        "warnings.filterwarnings(\"ignore\")"
      ]
    },
    {
      "cell_type": "code",
      "execution_count": 4,
      "metadata": {
        "id": "rQo72qVO_dG9"
      },
      "outputs": [],
      "source": [
        "def seed_set(seed = 31415):\n",
        "    np.random.seed(seed)\n",
        "    tf.random.set_seed(seed)\n",
        "    os.environ['PYTHONHASHSEED'] = str(seed)\n",
        "    os.environ['TF_DETERMINISTIC-OPS'] = '1'\n",
        "seed_set(31415)"
      ]
    },
    {
      "cell_type": "code",
      "execution_count": 5,
      "metadata": {
        "colab": {
          "base_uri": "https://localhost:8080/"
        },
        "id": "7u31g0vGBaQw",
        "outputId": "212401c4-6308-4334-e96f-c8c4fa4ea335"
      },
      "outputs": [
        {
          "output_type": "stream",
          "name": "stdout",
          "text": [
            "Mounted at /content/drive\n"
          ]
        }
      ],
      "source": [
        "from google.colab import drive\n",
        "drive.mount('/content/drive')"
      ]
    },
    {
      "cell_type": "code",
      "execution_count": 6,
      "metadata": {
        "colab": {
          "base_uri": "https://localhost:8080/"
        },
        "id": "hx0cIYCp_mjs",
        "outputId": "851a664b-6f65-498c-e135-59a9958d395e"
      },
      "outputs": [
        {
          "output_type": "stream",
          "name": "stdout",
          "text": [
            "Training directory: /content/drive/MyDrive/train/train\n",
            "Validation directory: /content/drive/MyDrive/valid/valid\n",
            "Found 368 files belonging to 8 classes.\n",
            "Found 368 files belonging to 8 classes.\n"
          ]
        }
      ],
      "source": [
        "train_dir = '/content/drive/MyDrive/train/train'\n",
        "valid_dir = '/content/drive/MyDrive/valid/valid'\n",
        "\n",
        "print(\"Training directory:\",train_dir)\n",
        "print(\"Validation directory:\",valid_dir)\n",
        "\n",
        "ds_train_ = image_dataset_from_directory(\n",
        "    train_dir,\n",
        "    labels = 'inferred',\n",
        "    label_mode = 'categorical',\n",
        "    image_size = [128, 128],\n",
        "    interpolation = 'nearest',\n",
        "    batch_size = 64,\n",
        "    shuffle = True,\n",
        ")\n",
        "\n",
        "ds_valid_ = image_dataset_from_directory(\n",
        "    train_dir,\n",
        "    labels = 'inferred',\n",
        "    label_mode = 'categorical',\n",
        "    image_size = [128, 128],\n",
        "    interpolation = 'nearest',\n",
        "    batch_size = 64,\n",
        "    shuffle = False,\n",
        ")\n"
      ]
    },
    {
      "cell_type": "code",
      "execution_count": 8,
      "metadata": {
        "id": "t2OEhvVp_vbj"
      },
      "outputs": [],
      "source": [
        "def convert_to_float(image, label):\n",
        "    image = tf.image.convert_image_dtype(image, dtype = tf.float32)\n",
        "    return image, label\n",
        "\n",
        "AUTOTUNE = tf.data.experimental.AUTOTUNE\n",
        "ds_train = (\n",
        "    ds_train_\n",
        "    .map(convert_to_float)\n",
        "    .cache()\n",
        "    .prefetch(buffer_size = AUTOTUNE)\n",
        ")\n",
        "ds_valid = (\n",
        "    ds_valid_\n",
        "    .map(convert_to_float)\n",
        "    .cache()\n",
        "    .prefetch(buffer_size = AUTOTUNE)\n",
        ")"
      ]
    },
    {
      "cell_type": "code",
      "execution_count": 9,
      "metadata": {
        "colab": {
          "base_uri": "https://localhost:8080/"
        },
        "id": "zQakCIIc_zKh",
        "outputId": "23c55810-45a4-4b1b-a3e7-6fcee4e7b92c"
      },
      "outputs": [
        {
          "output_type": "stream",
          "name": "stdout",
          "text": [
            "Downloading data from https://storage.googleapis.com/tensorflow/keras-applications/vgg16/vgg16_weights_tf_dim_ordering_tf_kernels_notop.h5\n",
            "58889256/58889256 [==============================] - 3s 0us/step\n"
          ]
        }
      ],
      "source": [
        "pretrained_base = VGG16(weights = 'imagenet',include_top = False, input_shape = (128,128,3))\n",
        "\n",
        "pretrained_base.trainable = False"
      ]
    },
    {
      "cell_type": "code",
      "execution_count": 10,
      "metadata": {
        "colab": {
          "base_uri": "https://localhost:8080/"
        },
        "id": "hu7t1XNKLcWI",
        "outputId": "1a50e927-7c29-4880-8a81-69d397d27e2d"
      },
      "outputs": [
        {
          "output_type": "stream",
          "name": "stdout",
          "text": [
            "Epoch 1/30\n",
            "6/6 [==============================] - 272s 27s/step - loss: 1.5854 - accuracy: 0.4755 - val_loss: 0.2696 - val_accuracy: 1.0000\n",
            "Epoch 2/30\n",
            "6/6 [==============================] - 128s 24s/step - loss: 0.3636 - accuracy: 0.8696 - val_loss: 0.1177 - val_accuracy: 1.0000\n",
            "Epoch 3/30\n",
            "6/6 [==============================] - 138s 25s/step - loss: 0.1994 - accuracy: 0.9185 - val_loss: 0.0495 - val_accuracy: 1.0000\n",
            "Epoch 4/30\n",
            "6/6 [==============================] - 131s 24s/step - loss: 0.1161 - accuracy: 0.9647 - val_loss: 0.0310 - val_accuracy: 1.0000\n",
            "Epoch 5/30\n",
            "6/6 [==============================] - 129s 24s/step - loss: 0.0739 - accuracy: 0.9864 - val_loss: 0.0175 - val_accuracy: 1.0000\n",
            "Epoch 6/30\n",
            "6/6 [==============================] - 134s 24s/step - loss: 0.0462 - accuracy: 0.9946 - val_loss: 0.0092 - val_accuracy: 1.0000\n",
            "Epoch 7/30\n",
            "6/6 [==============================] - 137s 25s/step - loss: 0.0334 - accuracy: 0.9973 - val_loss: 0.0059 - val_accuracy: 1.0000\n",
            "Epoch 8/30\n",
            "6/6 [==============================] - 149s 27s/step - loss: 0.0247 - accuracy: 1.0000 - val_loss: 0.0044 - val_accuracy: 1.0000\n",
            "Epoch 9/30\n",
            "6/6 [==============================] - 132s 24s/step - loss: 0.0174 - accuracy: 1.0000 - val_loss: 0.0031 - val_accuracy: 1.0000\n",
            "Epoch 10/30\n",
            "6/6 [==============================] - 148s 27s/step - loss: 0.0133 - accuracy: 1.0000 - val_loss: 0.0028 - val_accuracy: 1.0000\n",
            "Epoch 11/30\n",
            "6/6 [==============================] - 140s 25s/step - loss: 0.0126 - accuracy: 1.0000 - val_loss: 0.0022 - val_accuracy: 1.0000\n",
            "Epoch 12/30\n",
            "6/6 [==============================] - 148s 27s/step - loss: 0.0168 - accuracy: 1.0000 - val_loss: 0.0017 - val_accuracy: 1.0000\n",
            "Epoch 13/30\n",
            "6/6 [==============================] - 131s 24s/step - loss: 0.0066 - accuracy: 1.0000 - val_loss: 0.0014 - val_accuracy: 1.0000\n",
            "Epoch 14/30\n",
            "6/6 [==============================] - 149s 27s/step - loss: 0.0082 - accuracy: 1.0000 - val_loss: 0.0012 - val_accuracy: 1.0000\n",
            "Epoch 15/30\n",
            "6/6 [==============================] - 132s 24s/step - loss: 0.0062 - accuracy: 1.0000 - val_loss: 0.0010 - val_accuracy: 1.0000\n",
            "Epoch 16/30\n",
            "6/6 [==============================] - 136s 24s/step - loss: 0.0067 - accuracy: 1.0000 - val_loss: 8.6236e-04 - val_accuracy: 1.0000\n",
            "Epoch 17/30\n",
            "6/6 [==============================] - 147s 27s/step - loss: 0.0057 - accuracy: 1.0000 - val_loss: 9.8856e-04 - val_accuracy: 1.0000\n",
            "Epoch 18/30\n",
            "6/6 [==============================] - 149s 27s/step - loss: 0.0053 - accuracy: 1.0000 - val_loss: 8.2687e-04 - val_accuracy: 1.0000\n",
            "Epoch 19/30\n",
            "6/6 [==============================] - 137s 25s/step - loss: 0.0062 - accuracy: 1.0000 - val_loss: 8.2665e-04 - val_accuracy: 1.0000\n",
            "Epoch 20/30\n",
            "6/6 [==============================] - 133s 24s/step - loss: 0.0054 - accuracy: 1.0000 - val_loss: 7.0436e-04 - val_accuracy: 1.0000\n",
            "Epoch 21/30\n",
            "6/6 [==============================] - 130s 24s/step - loss: 0.0044 - accuracy: 1.0000 - val_loss: 7.6239e-04 - val_accuracy: 1.0000\n",
            "Epoch 22/30\n",
            "6/6 [==============================] - 149s 27s/step - loss: 0.0056 - accuracy: 1.0000 - val_loss: 5.2770e-04 - val_accuracy: 1.0000\n",
            "Epoch 23/30\n",
            "6/6 [==============================] - 129s 24s/step - loss: 0.0030 - accuracy: 1.0000 - val_loss: 5.5395e-04 - val_accuracy: 1.0000\n",
            "Epoch 24/30\n",
            "6/6 [==============================] - 137s 25s/step - loss: 0.0046 - accuracy: 1.0000 - val_loss: 4.9020e-04 - val_accuracy: 1.0000\n",
            "Epoch 25/30\n",
            "6/6 [==============================] - 131s 24s/step - loss: 0.0052 - accuracy: 1.0000 - val_loss: 4.1756e-04 - val_accuracy: 1.0000\n",
            "Epoch 26/30\n",
            "6/6 [==============================] - 147s 27s/step - loss: 0.0052 - accuracy: 1.0000 - val_loss: 4.2482e-04 - val_accuracy: 1.0000\n",
            "Epoch 27/30\n",
            "6/6 [==============================] - 131s 24s/step - loss: 0.0035 - accuracy: 1.0000 - val_loss: 4.0330e-04 - val_accuracy: 1.0000\n",
            "Epoch 28/30\n",
            "6/6 [==============================] - 147s 27s/step - loss: 0.0042 - accuracy: 1.0000 - val_loss: 3.7925e-04 - val_accuracy: 1.0000\n",
            "Epoch 29/30\n",
            "6/6 [==============================] - 130s 24s/step - loss: 0.0030 - accuracy: 1.0000 - val_loss: 3.3536e-04 - val_accuracy: 1.0000\n",
            "Epoch 30/30\n",
            "6/6 [==============================] - 133s 24s/step - loss: 0.0028 - accuracy: 1.0000 - val_loss: 2.9824e-04 - val_accuracy: 1.0000\n"
          ]
        }
      ],
      "source": [
        "model = keras.Sequential([\n",
        "    pretrained_base,\n",
        "    layers.Flatten(),\n",
        "    layers.Dense(256, activation = 'relu'),\n",
        "    layers.Dropout(0.5),\n",
        "    layers.Dense(8, activation = 'softmax')\n",
        "])\n",
        "model.compile(\n",
        "    optimizer = 'adam',\n",
        "    loss = 'categorical_crossentropy',\n",
        "    metrics = ['accuracy']\n",
        ")\n",
        "\n",
        "\n",
        "history = model.fit(\n",
        "    ds_train,validation_data = ds_valid,\n",
        "    epochs = 30,\n",
        "    verbose = 1\n",
        ")"
      ]
    },
    {
      "cell_type": "code",
      "execution_count": 11,
      "metadata": {
        "id": "ZFM2TExy_3K1"
      },
      "outputs": [],
      "source": [
        "labels = ['Earth', 'Jupiter', 'Mars', 'Mercury', 'Neptune', 'Saturn', 'Uranus', 'Venus']"
      ]
    },
    {
      "cell_type": "code",
      "execution_count": 12,
      "metadata": {
        "id": "mn5MrCqv_-Da"
      },
      "outputs": [],
      "source": [
        "#preprocess image\n",
        "def preprocess_img(image_path):\n",
        "    image = tf.io.read_file(image_path)\n",
        "    image = tf.image.decode_jpeg(image, channels = 3)\n",
        "    image = tf.image.resize(image, [128,128])\n",
        "    image = tf.cast(image, tf.float32) / 255.0\n",
        "    return image"
      ]
    },
    {
      "cell_type": "code",
      "execution_count": 13,
      "metadata": {
        "id": "RjBhM2rrAKuJ"
      },
      "outputs": [],
      "source": [
        "def predict_class(image_path):\n",
        "    image = preprocess_img(image_path)\n",
        "    image = tf.expand_dims(image, axis = 0)\n",
        "    predictions = model.predict(image)\n",
        "\n",
        "    predicted_index = tf.argmax(predictions[0]).numpy()\n",
        "    predicted_class = labels[predicted_index]\n",
        "    return predicted_class"
      ]
    },
    {
      "cell_type": "code",
      "execution_count": 17,
      "metadata": {
        "id": "rZhFhfIiAO_h",
        "colab": {
          "base_uri": "https://localhost:8080/"
        },
        "outputId": "b7baf3e3-729d-4045-8268-c73a634cfdb8"
      },
      "outputs": [
        {
          "output_type": "stream",
          "name": "stdout",
          "text": [
            "1/1 [==============================] - 0s 172ms/step\n",
            "The predicted planet is:  Neptune\n"
          ]
        }
      ],
      "source": [
        "#test\n",
        "image_path = '/content/drive/MyDrive/planets/Neptune1.jpg'\n",
        "planet = predict_class(image_path)\n",
        "print(\"The predicted planet is: \", planet)\n",
        "\n",
        "\n"
      ]
    }
  ],
  "metadata": {
    "colab": {
      "provenance": [],
      "authorship_tag": "ABX9TyNSXOY0PrvIYZUAN5CFgKOF",
      "include_colab_link": true
    },
    "kernelspec": {
      "display_name": "Python 3",
      "name": "python3"
    },
    "language_info": {
      "name": "python"
    }
  },
  "nbformat": 4,
  "nbformat_minor": 0
}